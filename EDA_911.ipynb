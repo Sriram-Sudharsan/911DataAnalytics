{
  "nbformat": 4,
  "nbformat_minor": 0,
  "metadata": {
    "colab": {
      "name": "EDA-911",
      "provenance": [],
      "authorship_tag": "ABX9TyOyXrOWBJ02kHD3gcNLglZm",
      "include_colab_link": true
    },
    "kernelspec": {
      "name": "python3",
      "display_name": "Python 3"
    },
    "language_info": {
      "name": "python"
    }
  },
  "cells": [
    {
      "cell_type": "markdown",
      "metadata": {
        "id": "view-in-github",
        "colab_type": "text"
      },
      "source": [
        "<a href=\"https://colab.research.google.com/github/Sriram-Sudharsan/911DataAnalytics/blob/main/EDA_911.ipynb\" target=\"_parent\"><img src=\"https://colab.research.google.com/assets/colab-badge.svg\" alt=\"Open In Colab\"/></a>"
      ]
    },
    {
      "cell_type": "code",
      "metadata": {
        "id": "sVZQGOVRmOFM"
      },
      "source": [
        "import numpy as np\n",
        "import pandas as pd\n",
        "import matplotlib.pyplot as plt\n",
        "%matplotlib inline \n",
        "import seaborn as sns\n"
      ],
      "execution_count": 2,
      "outputs": []
    },
    {
      "cell_type": "code",
      "metadata": {
        "colab": {
          "base_uri": "https://localhost:8080/"
        },
        "id": "xLrwig7xmT1Z",
        "outputId": "2d9fe1e0-c706-4d4a-8a3a-20b35b707931"
      },
      "source": [
        "from google.colab import drive\n",
        "drive.mount(\"/content/gdrive\")"
      ],
      "execution_count": 3,
      "outputs": [
        {
          "output_type": "stream",
          "text": [
            "Mounted at /content/gdrive\n"
          ],
          "name": "stdout"
        }
      ]
    },
    {
      "cell_type": "code",
      "metadata": {
        "colab": {
          "base_uri": "https://localhost:8080/",
          "height": 1000
        },
        "id": "4Gdx-KcMmntW",
        "outputId": "e0d6726a-dedb-4464-dc49-e08e93707784"
      },
      "source": [
        "#Reading the data from the csv file\n",
        "df=pd.read_csv(\"/content/gdrive/My Drive/Dataset/911.csv\")\n",
        "df"
      ],
      "execution_count": 4,
      "outputs": [
        {
          "output_type": "execute_result",
          "data": {
            "text/html": [
              "<div>\n",
              "<style scoped>\n",
              "    .dataframe tbody tr th:only-of-type {\n",
              "        vertical-align: middle;\n",
              "    }\n",
              "\n",
              "    .dataframe tbody tr th {\n",
              "        vertical-align: top;\n",
              "    }\n",
              "\n",
              "    .dataframe thead th {\n",
              "        text-align: right;\n",
              "    }\n",
              "</style>\n",
              "<table border=\"1\" class=\"dataframe\">\n",
              "  <thead>\n",
              "    <tr style=\"text-align: right;\">\n",
              "      <th></th>\n",
              "      <th>lat</th>\n",
              "      <th>lng</th>\n",
              "      <th>desc</th>\n",
              "      <th>zip</th>\n",
              "      <th>title</th>\n",
              "      <th>timeStamp</th>\n",
              "      <th>twp</th>\n",
              "      <th>addr</th>\n",
              "      <th>e</th>\n",
              "    </tr>\n",
              "  </thead>\n",
              "  <tbody>\n",
              "    <tr>\n",
              "      <th>0</th>\n",
              "      <td>40.297876</td>\n",
              "      <td>-75.581294</td>\n",
              "      <td>REINDEER CT &amp; DEAD END;  NEW HANOVER; Station ...</td>\n",
              "      <td>19525.0</td>\n",
              "      <td>EMS: BACK PAINS/INJURY</td>\n",
              "      <td>2015-12-10 17:10:52</td>\n",
              "      <td>NEW HANOVER</td>\n",
              "      <td>REINDEER CT &amp; DEAD END</td>\n",
              "      <td>1</td>\n",
              "    </tr>\n",
              "    <tr>\n",
              "      <th>1</th>\n",
              "      <td>40.258061</td>\n",
              "      <td>-75.264680</td>\n",
              "      <td>BRIAR PATH &amp; WHITEMARSH LN;  HATFIELD TOWNSHIP...</td>\n",
              "      <td>19446.0</td>\n",
              "      <td>EMS: DIABETIC EMERGENCY</td>\n",
              "      <td>2015-12-10 17:29:21</td>\n",
              "      <td>HATFIELD TOWNSHIP</td>\n",
              "      <td>BRIAR PATH &amp; WHITEMARSH LN</td>\n",
              "      <td>1</td>\n",
              "    </tr>\n",
              "    <tr>\n",
              "      <th>2</th>\n",
              "      <td>40.121182</td>\n",
              "      <td>-75.351975</td>\n",
              "      <td>HAWS AVE; NORRISTOWN; 2015-12-10 @ 14:39:21-St...</td>\n",
              "      <td>19401.0</td>\n",
              "      <td>Fire: GAS-ODOR/LEAK</td>\n",
              "      <td>2015-12-10 14:39:21</td>\n",
              "      <td>NORRISTOWN</td>\n",
              "      <td>HAWS AVE</td>\n",
              "      <td>1</td>\n",
              "    </tr>\n",
              "    <tr>\n",
              "      <th>3</th>\n",
              "      <td>40.116153</td>\n",
              "      <td>-75.343513</td>\n",
              "      <td>AIRY ST &amp; SWEDE ST;  NORRISTOWN; Station 308A;...</td>\n",
              "      <td>19401.0</td>\n",
              "      <td>EMS: CARDIAC EMERGENCY</td>\n",
              "      <td>2015-12-10 16:47:36</td>\n",
              "      <td>NORRISTOWN</td>\n",
              "      <td>AIRY ST &amp; SWEDE ST</td>\n",
              "      <td>1</td>\n",
              "    </tr>\n",
              "    <tr>\n",
              "      <th>4</th>\n",
              "      <td>40.251492</td>\n",
              "      <td>-75.603350</td>\n",
              "      <td>CHERRYWOOD CT &amp; DEAD END;  LOWER POTTSGROVE; S...</td>\n",
              "      <td>NaN</td>\n",
              "      <td>EMS: DIZZINESS</td>\n",
              "      <td>2015-12-10 16:56:52</td>\n",
              "      <td>LOWER POTTSGROVE</td>\n",
              "      <td>CHERRYWOOD CT &amp; DEAD END</td>\n",
              "      <td>1</td>\n",
              "    </tr>\n",
              "    <tr>\n",
              "      <th>...</th>\n",
              "      <td>...</td>\n",
              "      <td>...</td>\n",
              "      <td>...</td>\n",
              "      <td>...</td>\n",
              "      <td>...</td>\n",
              "      <td>...</td>\n",
              "      <td>...</td>\n",
              "      <td>...</td>\n",
              "      <td>...</td>\n",
              "    </tr>\n",
              "    <tr>\n",
              "      <th>663517</th>\n",
              "      <td>40.157956</td>\n",
              "      <td>-75.348060</td>\n",
              "      <td>SUNSET AVE &amp; WOODLAND AVE; EAST NORRITON; 2020...</td>\n",
              "      <td>19403.0</td>\n",
              "      <td>Traffic: VEHICLE ACCIDENT -</td>\n",
              "      <td>2020-07-29 15:46:51</td>\n",
              "      <td>EAST NORRITON</td>\n",
              "      <td>SUNSET AVE &amp; WOODLAND AVE</td>\n",
              "      <td>1</td>\n",
              "    </tr>\n",
              "    <tr>\n",
              "      <th>663518</th>\n",
              "      <td>40.136306</td>\n",
              "      <td>-75.428697</td>\n",
              "      <td>EAGLEVILLE RD &amp; BUNTING CIR;  LOWER PROVIDENCE...</td>\n",
              "      <td>19403.0</td>\n",
              "      <td>EMS: GENERAL WEAKNESS</td>\n",
              "      <td>2020-07-29 15:52:19</td>\n",
              "      <td>LOWER PROVIDENCE</td>\n",
              "      <td>EAGLEVILLE RD &amp; BUNTING CIR</td>\n",
              "      <td>1</td>\n",
              "    </tr>\n",
              "    <tr>\n",
              "      <th>663519</th>\n",
              "      <td>40.013779</td>\n",
              "      <td>-75.300835</td>\n",
              "      <td>HAVERFORD STATION RD;  LOWER MERION; Station 3...</td>\n",
              "      <td>19041.0</td>\n",
              "      <td>EMS: VEHICLE ACCIDENT</td>\n",
              "      <td>2020-07-29 15:52:52</td>\n",
              "      <td>LOWER MERION</td>\n",
              "      <td>HAVERFORD STATION RD</td>\n",
              "      <td>1</td>\n",
              "    </tr>\n",
              "    <tr>\n",
              "      <th>663520</th>\n",
              "      <td>40.121603</td>\n",
              "      <td>-75.351437</td>\n",
              "      <td>MARSHALL ST &amp; HAWS AVE; NORRISTOWN; 2020-07-29...</td>\n",
              "      <td>19401.0</td>\n",
              "      <td>Fire: BUILDING FIRE</td>\n",
              "      <td>2020-07-29 15:54:08</td>\n",
              "      <td>NORRISTOWN</td>\n",
              "      <td>MARSHALL ST &amp; HAWS AVE</td>\n",
              "      <td>1</td>\n",
              "    </tr>\n",
              "    <tr>\n",
              "      <th>663521</th>\n",
              "      <td>40.015046</td>\n",
              "      <td>-75.299674</td>\n",
              "      <td>HAVERFORD STATION RD &amp; W MONTGOMERY AVE; LOWER...</td>\n",
              "      <td>19041.0</td>\n",
              "      <td>Traffic: VEHICLE ACCIDENT -</td>\n",
              "      <td>2020-07-29 15:52:46</td>\n",
              "      <td>LOWER MERION</td>\n",
              "      <td>HAVERFORD STATION RD &amp; W MONTGOMERY AVE</td>\n",
              "      <td>1</td>\n",
              "    </tr>\n",
              "  </tbody>\n",
              "</table>\n",
              "<p>663522 rows × 9 columns</p>\n",
              "</div>"
            ],
            "text/plain": [
              "              lat        lng  ...                                     addr  e\n",
              "0       40.297876 -75.581294  ...                   REINDEER CT & DEAD END  1\n",
              "1       40.258061 -75.264680  ...               BRIAR PATH & WHITEMARSH LN  1\n",
              "2       40.121182 -75.351975  ...                                 HAWS AVE  1\n",
              "3       40.116153 -75.343513  ...                       AIRY ST & SWEDE ST  1\n",
              "4       40.251492 -75.603350  ...                 CHERRYWOOD CT & DEAD END  1\n",
              "...           ...        ...  ...                                      ... ..\n",
              "663517  40.157956 -75.348060  ...                SUNSET AVE & WOODLAND AVE  1\n",
              "663518  40.136306 -75.428697  ...              EAGLEVILLE RD & BUNTING CIR  1\n",
              "663519  40.013779 -75.300835  ...                     HAVERFORD STATION RD  1\n",
              "663520  40.121603 -75.351437  ...                   MARSHALL ST & HAWS AVE  1\n",
              "663521  40.015046 -75.299674  ...  HAVERFORD STATION RD & W MONTGOMERY AVE  1\n",
              "\n",
              "[663522 rows x 9 columns]"
            ]
          },
          "metadata": {
            "tags": []
          },
          "execution_count": 4
        }
      ]
    },
    {
      "cell_type": "markdown",
      "metadata": {
        "id": "0ILcFnMbm0VY"
      },
      "source": [
        "# **Understanding the Data**"
      ]
    },
    {
      "cell_type": "markdown",
      "metadata": {
        "id": "Isnd4MuJm5kg"
      },
      "source": [
        "### **Analyzing the shape of the 911 dataset**"
      ]
    },
    {
      "cell_type": "code",
      "metadata": {
        "colab": {
          "base_uri": "https://localhost:8080/"
        },
        "id": "nufM92TumxKE",
        "outputId": "20546f64-07a8-46f1-b67a-e7089d75541d"
      },
      "source": [
        "df.shape\n",
        "#No of rows, No of columns are displayed"
      ],
      "execution_count": 5,
      "outputs": [
        {
          "output_type": "execute_result",
          "data": {
            "text/plain": [
              "(663522, 9)"
            ]
          },
          "metadata": {
            "tags": []
          },
          "execution_count": 5
        }
      ]
    },
    {
      "cell_type": "markdown",
      "metadata": {
        "id": "na8JB-VBnzzm"
      },
      "source": [
        ""
      ]
    },
    {
      "cell_type": "markdown",
      "metadata": {
        "id": "YD7oIMIBnMYO"
      },
      "source": [
        "### **Analyzing the column information**"
      ]
    },
    {
      "cell_type": "code",
      "metadata": {
        "colab": {
          "base_uri": "https://localhost:8080/"
        },
        "id": "liAfry96m_md",
        "outputId": "548b9972-439a-4a21-eacb-1561e6b34a41"
      },
      "source": [
        "len(df.columns)"
      ],
      "execution_count": 6,
      "outputs": [
        {
          "output_type": "execute_result",
          "data": {
            "text/plain": [
              "9"
            ]
          },
          "metadata": {
            "tags": []
          },
          "execution_count": 6
        }
      ]
    },
    {
      "cell_type": "code",
      "metadata": {
        "colab": {
          "base_uri": "https://localhost:8080/"
        },
        "id": "_sNjResxnY-6",
        "outputId": "b5107175-1169-4f5c-fa0a-b546ef2585cd"
      },
      "source": [
        "df.columns"
      ],
      "execution_count": 7,
      "outputs": [
        {
          "output_type": "execute_result",
          "data": {
            "text/plain": [
              "Index(['lat', 'lng', 'desc', 'zip', 'title', 'timeStamp', 'twp', 'addr', 'e'], dtype='object')"
            ]
          },
          "metadata": {
            "tags": []
          },
          "execution_count": 7
        }
      ]
    },
    {
      "cell_type": "code",
      "metadata": {
        "colab": {
          "base_uri": "https://localhost:8080/",
          "height": 306
        },
        "id": "fBbxqfuynaF_",
        "outputId": "d26d85ad-a7a4-4f73-f5d7-0a7bb0a51ae4"
      },
      "source": [
        "df.describe()"
      ],
      "execution_count": 8,
      "outputs": [
        {
          "output_type": "execute_result",
          "data": {
            "text/html": [
              "<div>\n",
              "<style scoped>\n",
              "    .dataframe tbody tr th:only-of-type {\n",
              "        vertical-align: middle;\n",
              "    }\n",
              "\n",
              "    .dataframe tbody tr th {\n",
              "        vertical-align: top;\n",
              "    }\n",
              "\n",
              "    .dataframe thead th {\n",
              "        text-align: right;\n",
              "    }\n",
              "</style>\n",
              "<table border=\"1\" class=\"dataframe\">\n",
              "  <thead>\n",
              "    <tr style=\"text-align: right;\">\n",
              "      <th></th>\n",
              "      <th>lat</th>\n",
              "      <th>lng</th>\n",
              "      <th>zip</th>\n",
              "      <th>e</th>\n",
              "    </tr>\n",
              "  </thead>\n",
              "  <tbody>\n",
              "    <tr>\n",
              "      <th>count</th>\n",
              "      <td>663522.000000</td>\n",
              "      <td>663522.000000</td>\n",
              "      <td>583323.000000</td>\n",
              "      <td>663522.0</td>\n",
              "    </tr>\n",
              "    <tr>\n",
              "      <th>mean</th>\n",
              "      <td>40.158162</td>\n",
              "      <td>-75.300105</td>\n",
              "      <td>19236.055791</td>\n",
              "      <td>1.0</td>\n",
              "    </tr>\n",
              "    <tr>\n",
              "      <th>std</th>\n",
              "      <td>0.220641</td>\n",
              "      <td>1.672884</td>\n",
              "      <td>298.222637</td>\n",
              "      <td>0.0</td>\n",
              "    </tr>\n",
              "    <tr>\n",
              "      <th>min</th>\n",
              "      <td>0.000000</td>\n",
              "      <td>-119.698206</td>\n",
              "      <td>1104.000000</td>\n",
              "      <td>1.0</td>\n",
              "    </tr>\n",
              "    <tr>\n",
              "      <th>25%</th>\n",
              "      <td>40.100344</td>\n",
              "      <td>-75.392735</td>\n",
              "      <td>19038.000000</td>\n",
              "      <td>1.0</td>\n",
              "    </tr>\n",
              "    <tr>\n",
              "      <th>50%</th>\n",
              "      <td>40.143927</td>\n",
              "      <td>-75.305143</td>\n",
              "      <td>19401.000000</td>\n",
              "      <td>1.0</td>\n",
              "    </tr>\n",
              "    <tr>\n",
              "      <th>75%</th>\n",
              "      <td>40.229008</td>\n",
              "      <td>-75.211865</td>\n",
              "      <td>19446.000000</td>\n",
              "      <td>1.0</td>\n",
              "    </tr>\n",
              "    <tr>\n",
              "      <th>max</th>\n",
              "      <td>51.335390</td>\n",
              "      <td>87.854975</td>\n",
              "      <td>77316.000000</td>\n",
              "      <td>1.0</td>\n",
              "    </tr>\n",
              "  </tbody>\n",
              "</table>\n",
              "</div>"
            ],
            "text/plain": [
              "                 lat            lng            zip         e\n",
              "count  663522.000000  663522.000000  583323.000000  663522.0\n",
              "mean       40.158162     -75.300105   19236.055791       1.0\n",
              "std         0.220641       1.672884     298.222637       0.0\n",
              "min         0.000000    -119.698206    1104.000000       1.0\n",
              "25%        40.100344     -75.392735   19038.000000       1.0\n",
              "50%        40.143927     -75.305143   19401.000000       1.0\n",
              "75%        40.229008     -75.211865   19446.000000       1.0\n",
              "max        51.335390      87.854975   77316.000000       1.0"
            ]
          },
          "metadata": {
            "tags": []
          },
          "execution_count": 8
        }
      ]
    },
    {
      "cell_type": "markdown",
      "metadata": {
        "id": "Jay0PCpmn8JY"
      },
      "source": [
        "**Categorical Data - Stastical Description**"
      ]
    },
    {
      "cell_type": "code",
      "metadata": {
        "colab": {
          "base_uri": "https://localhost:8080/",
          "height": 214
        },
        "id": "jUg4fJwBn3a8",
        "outputId": "ad2c9e0b-acc8-4cc6-a962-117fadce0b1e"
      },
      "source": [
        "categorical_data=df.dtypes[df.dtypes==object].index   \n",
        "df[categorical_data].describe() "
      ],
      "execution_count": 9,
      "outputs": [
        {
          "output_type": "execute_result",
          "data": {
            "text/html": [
              "<div>\n",
              "<style scoped>\n",
              "    .dataframe tbody tr th:only-of-type {\n",
              "        vertical-align: middle;\n",
              "    }\n",
              "\n",
              "    .dataframe tbody tr th {\n",
              "        vertical-align: top;\n",
              "    }\n",
              "\n",
              "    .dataframe thead th {\n",
              "        text-align: right;\n",
              "    }\n",
              "</style>\n",
              "<table border=\"1\" class=\"dataframe\">\n",
              "  <thead>\n",
              "    <tr style=\"text-align: right;\">\n",
              "      <th></th>\n",
              "      <th>desc</th>\n",
              "      <th>title</th>\n",
              "      <th>timeStamp</th>\n",
              "      <th>twp</th>\n",
              "      <th>addr</th>\n",
              "    </tr>\n",
              "  </thead>\n",
              "  <tbody>\n",
              "    <tr>\n",
              "      <th>count</th>\n",
              "      <td>663522</td>\n",
              "      <td>663522</td>\n",
              "      <td>663522</td>\n",
              "      <td>663229</td>\n",
              "      <td>663522</td>\n",
              "    </tr>\n",
              "    <tr>\n",
              "      <th>unique</th>\n",
              "      <td>663282</td>\n",
              "      <td>148</td>\n",
              "      <td>640754</td>\n",
              "      <td>68</td>\n",
              "      <td>41292</td>\n",
              "    </tr>\n",
              "    <tr>\n",
              "      <th>top</th>\n",
              "      <td>CITY AVE &amp; CARDINAL AVE;  LOWER MERION; Statio...</td>\n",
              "      <td>Traffic: VEHICLE ACCIDENT -</td>\n",
              "      <td>2018-10-06 19:26:38</td>\n",
              "      <td>LOWER MERION</td>\n",
              "      <td>SHANNONDELL DR &amp; SHANNONDELL BLVD</td>\n",
              "    </tr>\n",
              "    <tr>\n",
              "      <th>freq</th>\n",
              "      <td>5</td>\n",
              "      <td>148372</td>\n",
              "      <td>9</td>\n",
              "      <td>55490</td>\n",
              "      <td>7285</td>\n",
              "    </tr>\n",
              "  </tbody>\n",
              "</table>\n",
              "</div>"
            ],
            "text/plain": [
              "                                                     desc  ...                               addr\n",
              "count                                              663522  ...                             663522\n",
              "unique                                             663282  ...                              41292\n",
              "top     CITY AVE & CARDINAL AVE;  LOWER MERION; Statio...  ...  SHANNONDELL DR & SHANNONDELL BLVD\n",
              "freq                                                    5  ...                               7285\n",
              "\n",
              "[4 rows x 5 columns]"
            ]
          },
          "metadata": {
            "tags": []
          },
          "execution_count": 9
        }
      ]
    },
    {
      "cell_type": "markdown",
      "metadata": {
        "id": "xuJ8lrX1oVYF"
      },
      "source": [
        "### **To check for NULL values**"
      ]
    },
    {
      "cell_type": "code",
      "metadata": {
        "colab": {
          "base_uri": "https://localhost:8080/"
        },
        "id": "KWZKFSqIoJYw",
        "outputId": "f4da5d8a-e321-49f0-e0f1-41fbba7fd48c"
      },
      "source": [
        "df.isnull().sum()"
      ],
      "execution_count": 10,
      "outputs": [
        {
          "output_type": "execute_result",
          "data": {
            "text/plain": [
              "lat              0\n",
              "lng              0\n",
              "desc             0\n",
              "zip          80199\n",
              "title            0\n",
              "timeStamp        0\n",
              "twp            293\n",
              "addr             0\n",
              "e                0\n",
              "dtype: int64"
            ]
          },
          "metadata": {
            "tags": []
          },
          "execution_count": 10
        }
      ]
    },
    {
      "cell_type": "markdown",
      "metadata": {
        "id": "4Su6sax2oiTQ"
      },
      "source": [
        "### Observation : Zipcode and twp columns have null values"
      ]
    },
    {
      "cell_type": "markdown",
      "metadata": {
        "id": "9d334nbHpEW0"
      },
      "source": [
        "Using forward filling method, we fill the null values in the two columns"
      ]
    },
    {
      "cell_type": "code",
      "metadata": {
        "id": "4GaMQl7zoY-7"
      },
      "source": [
        "columns_fill=[\"zip\",\"twp\"]\n",
        "df.loc[:,columns_fill]=df.loc[:,columns_fill].ffill()"
      ],
      "execution_count": 11,
      "outputs": []
    },
    {
      "cell_type": "code",
      "metadata": {
        "colab": {
          "base_uri": "https://localhost:8080/"
        },
        "id": "9XU0XqX2pdXb",
        "outputId": "4a456e41-f73c-4bac-d8a3-36d2e9fe01e8"
      },
      "source": [
        "df.isnull().sum()"
      ],
      "execution_count": 12,
      "outputs": [
        {
          "output_type": "execute_result",
          "data": {
            "text/plain": [
              "lat          0\n",
              "lng          0\n",
              "desc         0\n",
              "zip          0\n",
              "title        0\n",
              "timeStamp    0\n",
              "twp          0\n",
              "addr         0\n",
              "e            0\n",
              "dtype: int64"
            ]
          },
          "metadata": {
            "tags": []
          },
          "execution_count": 12
        }
      ]
    },
    {
      "cell_type": "markdown",
      "metadata": {
        "id": "Hk4qggDBpkdj"
      },
      "source": [
        "We notice all Null values have been removed"
      ]
    },
    {
      "cell_type": "code",
      "metadata": {
        "colab": {
          "base_uri": "https://localhost:8080/"
        },
        "id": "-iSYoEP7py3U",
        "outputId": "14657907-8b3d-41f3-d225-7501398bf509"
      },
      "source": [
        "df.e.unique"
      ],
      "execution_count": 13,
      "outputs": [
        {
          "output_type": "execute_result",
          "data": {
            "text/plain": [
              "<bound method Series.unique of 0         1\n",
              "1         1\n",
              "2         1\n",
              "3         1\n",
              "4         1\n",
              "         ..\n",
              "663517    1\n",
              "663518    1\n",
              "663519    1\n",
              "663520    1\n",
              "663521    1\n",
              "Name: e, Length: 663522, dtype: int64>"
            ]
          },
          "metadata": {
            "tags": []
          },
          "execution_count": 13
        }
      ]
    },
    {
      "cell_type": "markdown",
      "metadata": {
        "id": "FgSgEBcbpqwX"
      },
      "source": [
        "Dropping the column name labelled \"e\" as it provides no useful data"
      ]
    },
    {
      "cell_type": "code",
      "metadata": {
        "id": "GTUTL7hSpnKP"
      },
      "source": [
        "df.drop(\"e\",axis=1,inplace=True)"
      ],
      "execution_count": 14,
      "outputs": []
    },
    {
      "cell_type": "code",
      "metadata": {
        "colab": {
          "base_uri": "https://localhost:8080/"
        },
        "id": "M-mmLZrWp40d",
        "outputId": "1911db75-7958-4164-ffd4-c89603da20bd"
      },
      "source": [
        "df.columns\n",
        "#confirms column \"e\" has been removed"
      ],
      "execution_count": 15,
      "outputs": [
        {
          "output_type": "execute_result",
          "data": {
            "text/plain": [
              "Index(['lat', 'lng', 'desc', 'zip', 'title', 'timeStamp', 'twp', 'addr'], dtype='object')"
            ]
          },
          "metadata": {
            "tags": []
          },
          "execution_count": 15
        }
      ]
    },
    {
      "cell_type": "markdown",
      "metadata": {
        "id": "cflR3nuvqGeD"
      },
      "source": [
        "\n",
        "### DATA MANIPULATION\n"
      ]
    },
    {
      "cell_type": "markdown",
      "metadata": {
        "id": "RnvZiGj0snGi"
      },
      "source": [
        "Mapping the week day to its corresponding number"
      ]
    },
    {
      "cell_type": "code",
      "metadata": {
        "colab": {
          "base_uri": "https://localhost:8080/"
        },
        "id": "9iRw6KxNp9Hp",
        "outputId": "f4321f42-6fa1-4c62-dca5-ecb3a4b91490"
      },
      "source": [
        "df['timeStamp'] = pd.to_datetime(df['timeStamp'])\n",
        "time = df['timeStamp'].iloc[31]\n",
        "\n",
        "print('Hour:',time.hour)\n",
        "print('Month:',time.month)\n",
        "print('Day of Week:',time.dayofweek)\n",
        "\n",
        "df['Month'] = df['timeStamp'].apply(lambda x: x.month)\n",
        "df['Day'] = df['timeStamp'].apply(lambda x: x.dayofweek)\n",
        "df['Hour'] = df['timeStamp'].apply(lambda x: x.hour)\n",
        "#Extracting year from timeStamp\n",
        "df[\"Year\"]=df[\"timeStamp\"].dt.year\n",
        "#Extracting date\n",
        "df[\"Date\"]=df[\"timeStamp\"].dt.date\n",
        "\n",
        "datemap = {0:'Sun',1:'Mon',2:'Tue',3:'Wed',4:'Thu',5:'Fri',6:'Sat'}\n",
        "\n",
        "df['Day'] = df['Day'].map(datemap)"
      ],
      "execution_count": 16,
      "outputs": [
        {
          "output_type": "stream",
          "text": [
            "Hour: 18\n",
            "Month: 12\n",
            "Day of Week: 3\n"
          ],
          "name": "stdout"
        }
      ]
    },
    {
      "cell_type": "markdown",
      "metadata": {
        "id": "wJ1GDB7LqDVH"
      },
      "source": [
        ""
      ]
    },
    {
      "cell_type": "code",
      "metadata": {
        "id": "1X-Cj-f_tXng"
      },
      "source": [
        "#df.drop(\"Day of Week\",axis=1,inplace=True)"
      ],
      "execution_count": 17,
      "outputs": []
    },
    {
      "cell_type": "code",
      "metadata": {
        "colab": {
          "base_uri": "https://localhost:8080/",
          "height": 192
        },
        "id": "WZrliQK9tYOZ",
        "outputId": "4019f3c4-bb9f-47a9-b72a-c6a5ae4c49e2"
      },
      "source": [
        "df.head(1)"
      ],
      "execution_count": 18,
      "outputs": [
        {
          "output_type": "execute_result",
          "data": {
            "text/html": [
              "<div>\n",
              "<style scoped>\n",
              "    .dataframe tbody tr th:only-of-type {\n",
              "        vertical-align: middle;\n",
              "    }\n",
              "\n",
              "    .dataframe tbody tr th {\n",
              "        vertical-align: top;\n",
              "    }\n",
              "\n",
              "    .dataframe thead th {\n",
              "        text-align: right;\n",
              "    }\n",
              "</style>\n",
              "<table border=\"1\" class=\"dataframe\">\n",
              "  <thead>\n",
              "    <tr style=\"text-align: right;\">\n",
              "      <th></th>\n",
              "      <th>lat</th>\n",
              "      <th>lng</th>\n",
              "      <th>desc</th>\n",
              "      <th>zip</th>\n",
              "      <th>title</th>\n",
              "      <th>timeStamp</th>\n",
              "      <th>twp</th>\n",
              "      <th>addr</th>\n",
              "      <th>Month</th>\n",
              "      <th>Day</th>\n",
              "      <th>Hour</th>\n",
              "      <th>Year</th>\n",
              "      <th>Date</th>\n",
              "    </tr>\n",
              "  </thead>\n",
              "  <tbody>\n",
              "    <tr>\n",
              "      <th>0</th>\n",
              "      <td>40.297876</td>\n",
              "      <td>-75.581294</td>\n",
              "      <td>REINDEER CT &amp; DEAD END;  NEW HANOVER; Station ...</td>\n",
              "      <td>19525.0</td>\n",
              "      <td>EMS: BACK PAINS/INJURY</td>\n",
              "      <td>2015-12-10 17:10:52</td>\n",
              "      <td>NEW HANOVER</td>\n",
              "      <td>REINDEER CT &amp; DEAD END</td>\n",
              "      <td>12</td>\n",
              "      <td>Wed</td>\n",
              "      <td>17</td>\n",
              "      <td>2015</td>\n",
              "      <td>2015-12-10</td>\n",
              "    </tr>\n",
              "  </tbody>\n",
              "</table>\n",
              "</div>"
            ],
            "text/plain": [
              "         lat        lng  ...  Year        Date\n",
              "0  40.297876 -75.581294  ...  2015  2015-12-10\n",
              "\n",
              "[1 rows x 13 columns]"
            ]
          },
          "metadata": {
            "tags": []
          },
          "execution_count": 18
        }
      ]
    },
    {
      "cell_type": "markdown",
      "metadata": {
        "id": "07vAlTtUv-cw"
      },
      "source": [
        "### **Part2: Splitting title column into category of the emergency and reason**"
      ]
    },
    {
      "cell_type": "code",
      "metadata": {
        "id": "nZCZAyPburPl"
      },
      "source": [
        "df[\"Category\"]=df[\"title\"].str.split(\":\",expand=True)[0]\n",
        "\n",
        "df[\"Reason\"]=df[\"title\"].str.split(\":\",expand=True)[1]\n",
        "1\n",
        "df.drop(\"title\",axis=1,inplace=True)\n"
      ],
      "execution_count": 19,
      "outputs": []
    },
    {
      "cell_type": "code",
      "metadata": {
        "colab": {
          "base_uri": "https://localhost:8080/"
        },
        "id": "tYysSJh9wVGd",
        "outputId": "c0d9768a-ea61-422a-e79a-3116cc4ef4a0"
      },
      "source": [
        "df.columns  "
      ],
      "execution_count": 20,
      "outputs": [
        {
          "output_type": "execute_result",
          "data": {
            "text/plain": [
              "Index(['lat', 'lng', 'desc', 'zip', 'timeStamp', 'twp', 'addr', 'Month', 'Day',\n",
              "       'Hour', 'Year', 'Date', 'Category', 'Reason'],\n",
              "      dtype='object')"
            ]
          },
          "metadata": {
            "tags": []
          },
          "execution_count": 20
        }
      ]
    },
    {
      "cell_type": "code",
      "metadata": {
        "colab": {
          "base_uri": "https://localhost:8080/"
        },
        "id": "yJKtFyNDwpJB",
        "outputId": "54feca7e-25eb-4671-bc1a-d1416546bd66"
      },
      "source": [
        "df[\"Station_code\"]=df[\"desc\"].str.split(\"Station\",expand=True)[1]\n",
        "df[\"Station_code\"]=df[\"Station_code\"].str.split(\";\",expand=True)[0]\n",
        "df[\"Station_code\"]=df[\"Station_code\"].str.replace(\":\",\" \")\n",
        "df[\"Station_code\"].head()"
      ],
      "execution_count": 21,
      "outputs": [
        {
          "output_type": "execute_result",
          "data": {
            "text/plain": [
              "0       332\n",
              "1       345\n",
              "2     STA27\n",
              "3      308A\n",
              "4       329\n",
              "Name: Station_code, dtype: object"
            ]
          },
          "metadata": {
            "tags": []
          },
          "execution_count": 21
        }
      ]
    },
    {
      "cell_type": "code",
      "metadata": {
        "id": "F94DdIpG-C5R"
      },
      "source": [
        "df.drop(\"desc\",axis=1,inplace=True)"
      ],
      "execution_count": 22,
      "outputs": []
    },
    {
      "cell_type": "code",
      "metadata": {
        "colab": {
          "base_uri": "https://localhost:8080/"
        },
        "id": "fJiRXnKK-uQ_",
        "outputId": "9a4d09fd-f646-4076-c97e-2e12dcd7d51c"
      },
      "source": [
        "df.columns\n",
        "#column \"Desc\" removed"
      ],
      "execution_count": 23,
      "outputs": [
        {
          "output_type": "execute_result",
          "data": {
            "text/plain": [
              "Index(['lat', 'lng', 'zip', 'timeStamp', 'twp', 'addr', 'Month', 'Day', 'Hour',\n",
              "       'Year', 'Date', 'Category', 'Reason', 'Station_code'],\n",
              "      dtype='object')"
            ]
          },
          "metadata": {
            "tags": []
          },
          "execution_count": 23
        }
      ]
    },
    {
      "cell_type": "code",
      "metadata": {
        "id": "02XPKgyV-zAr"
      },
      "source": [
        "df.drop(\"timeStamp\",axis=1,inplace=True)"
      ],
      "execution_count": 24,
      "outputs": []
    },
    {
      "cell_type": "markdown",
      "metadata": {
        "id": "odmx2Yqp-_k6"
      },
      "source": [
        "### **Exploratory Data Analysis (EDA)**"
      ]
    },
    {
      "cell_type": "markdown",
      "metadata": {
        "id": "z_X5y6-t_KsF"
      },
      "source": [
        "In this section, we identify the reason for\n",
        "\n",
        "\n",
        "*   Reason for most emergency calls\n",
        "*   Township with maximum number of emergency calls\n",
        "*   Time of the year when most 911 calls are made\n",
        "\n",
        "\n",
        "\n",
        "\n"
      ]
    },
    {
      "cell_type": "code",
      "metadata": {
        "colab": {
          "base_uri": "https://localhost:8080/"
        },
        "id": "Gnc11H-u_FUs",
        "outputId": "5da3f5e3-c202-45b4-ba5d-4586260123ef"
      },
      "source": [
        "df[\"Reason\"].value_counts()"
      ],
      "execution_count": 25,
      "outputs": [
        {
          "output_type": "execute_result",
          "data": {
            "text/plain": [
              " VEHICLE ACCIDENT -     148372\n",
              " DISABLED VEHICLE -      47909\n",
              " FIRE ALARM              38452\n",
              " VEHICLE ACCIDENT        36377\n",
              " FALL VICTIM             34683\n",
              "                         ...  \n",
              " ROAD OBSTRUCTION            2\n",
              " FOOT PATROL                 1\n",
              " PRISONER IN CUSTODY         1\n",
              " ANIMAL COMPLAINT            1\n",
              " HIT + RUN                   1\n",
              "Name: Reason, Length: 95, dtype: int64"
            ]
          },
          "metadata": {
            "tags": []
          },
          "execution_count": 25
        }
      ]
    },
    {
      "cell_type": "code",
      "metadata": {
        "colab": {
          "base_uri": "https://localhost:8080/"
        },
        "id": "pmRqHjQi-9JN",
        "outputId": "226c72c5-1639-4f0c-fde4-756b34239665"
      },
      "source": [
        "df.twp.value_counts()"
      ],
      "execution_count": 26,
      "outputs": [
        {
          "output_type": "execute_result",
          "data": {
            "text/plain": [
              "LOWER MERION       55516\n",
              "ABINGTON           39961\n",
              "NORRISTOWN         37646\n",
              "UPPER MERION       36025\n",
              "CHELTENHAM         30582\n",
              "                   ...  \n",
              "EAST GREENVILLE     1316\n",
              "BRYN ATHYN          1254\n",
              "GREEN LANE           385\n",
              "PHILA COUNTY         267\n",
              "LEHIGH COUNTY        190\n",
              "Name: twp, Length: 68, dtype: int64"
            ]
          },
          "metadata": {
            "tags": []
          },
          "execution_count": 26
        }
      ]
    },
    {
      "cell_type": "markdown",
      "metadata": {
        "id": "SJmZRQfXAQ6l"
      },
      "source": [
        "Top 3 months with highest 911 calls"
      ]
    },
    {
      "cell_type": "code",
      "metadata": {
        "colab": {
          "base_uri": "https://localhost:8080/"
        },
        "id": "Q225Aw0x_5b4",
        "outputId": "357031fc-a4bf-419a-cdd2-4d23d62afccf"
      },
      "source": [
        "df[\"Month\"].value_counts().head(3)\n"
      ],
      "execution_count": 27,
      "outputs": [
        {
          "output_type": "execute_result",
          "data": {
            "text/plain": [
              "1    62336\n",
              "6    60034\n",
              "3    60027\n",
              "Name: Month, dtype: int64"
            ]
          },
          "metadata": {
            "tags": []
          },
          "execution_count": 27
        }
      ]
    },
    {
      "cell_type": "markdown",
      "metadata": {
        "id": "iZNG-W-SAX7t"
      },
      "source": [
        "Top 5 stations with maximum number of calls made"
      ]
    },
    {
      "cell_type": "code",
      "metadata": {
        "colab": {
          "base_uri": "https://localhost:8080/"
        },
        "id": "ddKMd_rZAH4M",
        "outputId": "1ef1fe10-c15b-4ee9-9232-619567fa6381"
      },
      "source": [
        "top5_station=df[\"Station_code\"].value_counts().head()\n",
        "top5_station"
      ],
      "execution_count": 28,
      "outputs": [
        {
          "output_type": "execute_result",
          "data": {
            "text/plain": [
              " 308A    25346\n",
              " 329     21895\n",
              " 313     20325\n",
              " 381     15949\n",
              " 345     14504\n",
              "Name: Station_code, dtype: int64"
            ]
          },
          "metadata": {
            "tags": []
          },
          "execution_count": 28
        }
      ]
    },
    {
      "cell_type": "code",
      "metadata": {
        "colab": {
          "base_uri": "https://localhost:8080/",
          "height": 441
        },
        "id": "jwhgVr48AcGw",
        "outputId": "c1e52d5b-2c16-4d0d-d81f-9ca0fb244952"
      },
      "source": [
        "plt.figure(figsize=(10,6))\n",
        "plt.bar(top5_station.index,top5_station.values,width=0.5,color=\"black\")\n",
        "plt.xlabel('Index')\n",
        "plt.ylabel(\"Values\")\n",
        "plt.title(\"Station code with calls\")\n",
        "plt.tight_layout()"
      ],
      "execution_count": 29,
      "outputs": [
        {
          "output_type": "display_data",
          "data": {
            "image/png": "[encoded data removed]",
            "text/plain": [
              "<Figure size 720x432 with 1 Axes>"
            ]
          },
          "metadata": {
            "tags": [],
            "needs_background": "light"
          }
        }
      ]
    },
    {
      "cell_type": "markdown",
      "metadata": {
        "id": "CbE3gr8cBeZg"
      },
      "source": [
        "Inference: Station 308A has highest number of 911 calls"
      ]
    },
    {
      "cell_type": "markdown",
      "metadata": {
        "id": "Z9HUgqkzBn5U"
      },
      "source": [
        "### **Category vs Hour Visualization**"
      ]
    },
    {
      "cell_type": "code",
      "metadata": {
        "colab": {
          "base_uri": "https://localhost:8080/",
          "height": 785
        },
        "id": "k0JeYkVcBbjQ",
        "outputId": "fdc29391-e4cc-465f-9340-bd580463b706"
      },
      "source": [
        "plt.figure(figsize=(10,10))\n",
        "sns.countplot(df[\"Hour\"],hue=df[\"Category\"],data=df)\n",
        "plt.xlabel(\"Time in Hours\")\n",
        "plt.ylabel(\"Total number of calls\")\n",
        "plt.title(\"Category vs Time\")\n",
        "plt.tight_layout()"
      ],
      "execution_count": 30,
      "outputs": [
        {
          "output_type": "stream",
          "text": [
            "/usr/local/lib/python3.7/dist-packages/seaborn/_decorators.py:43: FutureWarning: Pass the following variable as a keyword arg: x. From version 0.12, the only valid positional argument will be `data`, and passing other arguments without an explicit keyword will result in an error or misinterpretation.\n",
            "  FutureWarning\n"
          ],
          "name": "stderr"
        },
        {
          "output_type": "display_data",
          "data": {
            "image/png": "[encoded data removed]",
            "text/plain": [
              "<Figure size 720x720 with 1 Axes>"
            ]
          },
          "metadata": {
            "tags": [],
            "needs_background": "light"
          }
        }
      ]
    },
    {
      "cell_type": "code",
      "metadata": {
        "id": "DAM4VulQB4kg",
        "colab": {
          "base_uri": "https://localhost:8080/",
          "height": 785
        },
        "outputId": "7740ab82-0e23-43f5-f3c2-1de322f6ec19"
      },
      "source": [
        "plt.figure(figsize=(10,10))\n",
        "sns.countplot(df[\"Year\"],hue=df[\"Category\"],data=df)\n",
        "plt.xlabel(\"Years\")\n",
        "plt.ylabel(\"Total number of calls\")\n",
        "plt.title(\"Variations on Yearly Basis\")\n",
        "plt.tight_layout()"
      ],
      "execution_count": 32,
      "outputs": [
        {
          "output_type": "stream",
          "text": [
            "/usr/local/lib/python3.7/dist-packages/seaborn/_decorators.py:43: FutureWarning: Pass the following variable as a keyword arg: x. From version 0.12, the only valid positional argument will be `data`, and passing other arguments without an explicit keyword will result in an error or misinterpretation.\n",
            "  FutureWarning\n"
          ],
          "name": "stderr"
        },
        {
          "output_type": "display_data",
          "data": {
            "image/png": "[encoded data removed]",
            "text/plain": [
              "<Figure size 720x720 with 1 Axes>"
            ]
          },
          "metadata": {
            "tags": [],
            "needs_background": "light"
          }
        }
      ]
    },
    {
      "cell_type": "markdown",
      "metadata": {
        "id": "vK2QtlOSx6ay"
      },
      "source": [
        "Heatmap \n",
        "Day vs Time"
      ]
    },
    {
      "cell_type": "code",
      "metadata": {
        "colab": {
          "base_uri": "https://localhost:8080/",
          "height": 624
        },
        "id": "pYBfaVP1xNxR",
        "outputId": "8e265724-d93a-4848-ca4d-2c7b810f82a5"
      },
      "source": [
        "Day_hour=df.groupby([df.Day,df.Hour]).count().Category.unstack() \n",
        "plt.figure(figsize=(10,10))\n",
        "sns.heatmap(Day_hour,linewidth=0.3,linecolor=\"none\",cmap=\"gnuplot\")\n"
      ],
      "execution_count": 36,
      "outputs": [
        {
          "output_type": "execute_result",
          "data": {
            "text/plain": [
              "<matplotlib.axes._subplots.AxesSubplot at 0x7fdf91c26b50>"
            ]
          },
          "metadata": {
            "tags": []
          },
          "execution_count": 36
        },
        {
          "output_type": "display_data",
          "data": {
            "image/png": "[encoded data removed]",
            "text/plain": [
              "<Figure size 720x720 with 2 Axes>"
            ]
          },
          "metadata": {
            "tags": [],
            "needs_background": "light"
          }
        }
      ]
    },
    {
      "cell_type": "markdown",
      "metadata": {
        "id": "0rhs08c9yQm_"
      },
      "source": [
        "Day vs Month"
      ]
    },
    {
      "cell_type": "code",
      "metadata": {
        "colab": {
          "base_uri": "https://localhost:8080/",
          "height": 515
        },
        "id": "7pA1hmAzyCPX",
        "outputId": "c4c6e84b-188a-4e1c-fdce-e86cc921d55d"
      },
      "source": [
        "Day_month=df.groupby([df.Day,df.Month]).count().Category.unstack() \n",
        "\n",
        "plt.figure(figsize=(15,8))\n",
        "sns.heatmap(Day_month,linewidth=0.3,linecolor=\"None\",cmap='gnuplot'\n",
        ")"
      ],
      "execution_count": 39,
      "outputs": [
        {
          "output_type": "execute_result",
          "data": {
            "text/plain": [
              "<matplotlib.axes._subplots.AxesSubplot at 0x7fdf9403b090>"
            ]
          },
          "metadata": {
            "tags": []
          },
          "execution_count": 39
        },
        {
          "output_type": "display_data",
          "data": {
            "image/png": "[encoded data removed]",
            "text/plain": [
              "<Figure size 1080x576 with 2 Axes>"
            ]
          },
          "metadata": {
            "tags": [],
            "needs_background": "light"
          }
        }
      ]
    },
    {
      "cell_type": "markdown",
      "metadata": {
        "id": "KwweLtHqyiRi"
      },
      "source": [
        "Inference: We observe that most calls are made between 3pm and 5pm. We also observe that maximum number of calls were made in the month of March on Thursday. "
      ]
    },
    {
      "cell_type": "code",
      "metadata": {
        "colab": {
          "base_uri": "https://localhost:8080/",
          "height": 624
        },
        "id": "TFO-BNMvySH7",
        "outputId": "40795971-074f-474c-f8e7-ebd1505a84b9"
      },
      "source": [
        "month=df.groupby(\"Month\").count()[\"Category\"]\n",
        "month.plot(figsize=(10,10),color=\"red\")\n",
        "\n"
      ],
      "execution_count": 41,
      "outputs": [
        {
          "output_type": "execute_result",
          "data": {
            "text/plain": [
              "<matplotlib.axes._subplots.AxesSubplot at 0x7fdf94b8c210>"
            ]
          },
          "metadata": {
            "tags": []
          },
          "execution_count": 41
        },
        {
          "output_type": "display_data",
          "data": {
            "image/png": "[encoded data removed]",
            "text/plain": [
              "<Figure size 720x720 with 1 Axes>"
            ]
          },
          "metadata": {
            "tags": [],
            "needs_background": "light"
          }
        }
      ]
    },
    {
      "cell_type": "markdown",
      "metadata": {
        "id": "SJPWVgEizWkb"
      },
      "source": [
        "Inference: Maximum number of calls were made in the month of January and least number of calls in September"
      ]
    },
    {
      "cell_type": "code",
      "metadata": {
        "id": "DVUBq-aVzKj_"
      },
      "source": [
        ""
      ],
      "execution_count": null,
      "outputs": []
    }
  ]
}